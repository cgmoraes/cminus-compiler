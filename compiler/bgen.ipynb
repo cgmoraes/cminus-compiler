{
 "cells": [
  {
   "cell_type": "code",
   "execution_count": 6,
   "metadata": {},
   "outputs": [
    {
     "ename": "FileNotFoundError",
     "evalue": "[Errno 2] No such file or directory: '--ip=127.0.0.1.asm'",
     "output_type": "error",
     "traceback": [
      "\u001b[0;31m---------------------------------------------------------------------------\u001b[0m",
      "\u001b[0;31mFileNotFoundError\u001b[0m                         Traceback (most recent call last)",
      "Cell \u001b[0;32mIn[6], line 36\u001b[0m\n\u001b[1;32m     10\u001b[0m op \u001b[39m=\u001b[39m {\n\u001b[1;32m     11\u001b[0m         \u001b[39m\"\u001b[39m\u001b[39mR\u001b[39m\u001b[39m\"\u001b[39m: {\n\u001b[1;32m     12\u001b[0m                 \u001b[39m\"\u001b[39m\u001b[39mAND\u001b[39m\u001b[39m\"\u001b[39m : \u001b[39m\"\u001b[39m\u001b[39m100100\u001b[39m\u001b[39m\"\u001b[39m,\n\u001b[0;32m   (...)\u001b[0m\n\u001b[1;32m     32\u001b[0m         \u001b[39m\"\u001b[39m\u001b[39mJR\u001b[39m\u001b[39m\"\u001b[39m: \u001b[39m\"\u001b[39m\u001b[39m000001\u001b[39m\u001b[39m\"\u001b[39m\n\u001b[1;32m     33\u001b[0m     }\n\u001b[1;32m     35\u001b[0m \u001b[39mwith\u001b[39;00m \u001b[39mopen\u001b[39m(\u001b[39mf\u001b[39m\u001b[39m\"\u001b[39m\u001b[39m{\u001b[39;00mfile\u001b[39m}\u001b[39;00m\u001b[39m.b\u001b[39m\u001b[39m\"\u001b[39m, \u001b[39m\"\u001b[39m\u001b[39mw\u001b[39m\u001b[39m\"\u001b[39m) \u001b[39mas\u001b[39;00m b:\n\u001b[0;32m---> 36\u001b[0m     \u001b[39mwith\u001b[39;00m \u001b[39mopen\u001b[39;49m(\u001b[39mf\u001b[39;49m\u001b[39m\"\u001b[39;49m\u001b[39m{\u001b[39;49;00mfile\u001b[39m}\u001b[39;49;00m\u001b[39m.asm\u001b[39;49m\u001b[39m\"\u001b[39;49m, \u001b[39m\"\u001b[39;49m\u001b[39mr\u001b[39;49m\u001b[39m\"\u001b[39;49m) \u001b[39mas\u001b[39;00m asm:\n\u001b[1;32m     37\u001b[0m         \u001b[39mfor\u001b[39;00m line \u001b[39min\u001b[39;00m asm:\n\u001b[1;32m     38\u001b[0m             line \u001b[39m=\u001b[39m line\u001b[39m.\u001b[39mstrip()\n",
      "File \u001b[0;32m~/.local/lib/python3.10/site-packages/IPython/core/interactiveshell.py:282\u001b[0m, in \u001b[0;36m_modified_open\u001b[0;34m(file, *args, **kwargs)\u001b[0m\n\u001b[1;32m    275\u001b[0m \u001b[39mif\u001b[39;00m file \u001b[39min\u001b[39;00m {\u001b[39m0\u001b[39m, \u001b[39m1\u001b[39m, \u001b[39m2\u001b[39m}:\n\u001b[1;32m    276\u001b[0m     \u001b[39mraise\u001b[39;00m \u001b[39mValueError\u001b[39;00m(\n\u001b[1;32m    277\u001b[0m         \u001b[39mf\u001b[39m\u001b[39m\"\u001b[39m\u001b[39mIPython won\u001b[39m\u001b[39m'\u001b[39m\u001b[39mt let you open fd=\u001b[39m\u001b[39m{\u001b[39;00mfile\u001b[39m}\u001b[39;00m\u001b[39m by default \u001b[39m\u001b[39m\"\u001b[39m\n\u001b[1;32m    278\u001b[0m         \u001b[39m\"\u001b[39m\u001b[39mas it is likely to crash IPython. If you know what you are doing, \u001b[39m\u001b[39m\"\u001b[39m\n\u001b[1;32m    279\u001b[0m         \u001b[39m\"\u001b[39m\u001b[39myou can use builtins\u001b[39m\u001b[39m'\u001b[39m\u001b[39m open.\u001b[39m\u001b[39m\"\u001b[39m\n\u001b[1;32m    280\u001b[0m     )\n\u001b[0;32m--> 282\u001b[0m \u001b[39mreturn\u001b[39;00m io_open(file, \u001b[39m*\u001b[39;49margs, \u001b[39m*\u001b[39;49m\u001b[39m*\u001b[39;49mkwargs)\n",
      "\u001b[0;31mFileNotFoundError\u001b[0m: [Errno 2] No such file or directory: '--ip=127.0.0.1.asm'"
     ]
    }
   ],
   "source": [
    "import sys\n",
    "\n",
    "file = sys.argv[1]\n",
    "# numregs = sys.argv[2]\n",
    "numregs = 25\n",
    "regs = {\"$r0\": format(0, \"05b\")}\n",
    "regs.update({f\"$t{i}\": format(i, \"05b\") for i in range(1,numregs)})\n",
    "regs.update({f\"$r{i}\": format(i, \"05b\") for i in range(numregs, 32)})\n",
    "\n",
    "op = {\n",
    "        \"R\": {\n",
    "                \"AND\" : \"100100\",\n",
    "                \"OR\" : \"100101\",\n",
    "                \"ADD\" : \"100000\",\n",
    "                \"SUB\" : \"100010\",\n",
    "                \"MULT\" : \"011000\",\n",
    "                \"DIV\" : \"011010\",\n",
    "                \"SLL\" : \"000000\",\n",
    "                \"SRL\" : \"000001\"\n",
    "            },\n",
    "        \"ADDI\": \"001000\",\n",
    "        \"SUBI\": \"001010\",\n",
    "        \"NOT\": \"001100\",\n",
    "        \"LW\": \"100011\",\n",
    "        \"SW\": \"101011\",\n",
    "        \"BEQ\": \"000100\",\n",
    "        \"BNE\": \"000101\",\n",
    "        \"BLT\": \"000110\",\n",
    "        \"BGT\": \"000111\",\n",
    "        \"J\": \"000010\",\n",
    "        \"JAL\": \"000011\",\n",
    "        \"JR\": \"000001\"\n",
    "    }\n",
    "\n",
    "with open(f\"{file}.bin\", \"w\") as b:\n",
    "    with open(f\"{file}.asm\", \"r\") as asm:\n",
    "        for line in asm:\n",
    "            line = line.strip()\n",
    "            quad = line.split(' ')\n",
    "            if quad[0] in reg[\"R\"].keys():\n",
    "                print(quad[0])\n",
    "                b.write(f\"000000{reg[quad[1]]}{reg[quad[2]]}00000{op['R'][quad[0]]}\")"
   ]
  },
  {
   "cell_type": "code",
   "execution_count": 4,
   "metadata": {},
   "outputs": [
    {
     "data": {
      "text/plain": [
       "'100000'"
      ]
     },
     "execution_count": 4,
     "metadata": {},
     "output_type": "execute_result"
    }
   ],
   "source": []
  }
 ],
 "metadata": {
  "kernelspec": {
   "display_name": "Python 3",
   "language": "python",
   "name": "python3"
  },
  "language_info": {
   "codemirror_mode": {
    "name": "ipython",
    "version": 3
   },
   "file_extension": ".py",
   "mimetype": "text/x-python",
   "name": "python",
   "nbconvert_exporter": "python",
   "pygments_lexer": "ipython3",
   "version": "3.10.4"
  },
  "orig_nbformat": 4
 },
 "nbformat": 4,
 "nbformat_minor": 2
}
